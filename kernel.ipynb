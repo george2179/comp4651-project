{
  "cells": [
    {
      "metadata": {
        "trusted": true,
        "_uuid": "fbace34b8a9d961d4b0f7c2d14c6a1b0cb4b3361"
      },
      "cell_type": "code",
      "source": "!ls ../input",
      "execution_count": null,
      "outputs": []
    },
    {
      "metadata": {
        "_uuid": "b740f2d571c0b15efb0ea25eac0b9db48b65b40e"
      },
      "cell_type": "markdown",
      "source": "# COMP4651 Project — Kaggle competition https://www.kaggle.com/c/ga-customer-revenue-prediction/overview\n### - Data collected from https://www.kaggle.com/qnkhuat/make-data-ready/code\n### - Those data are already cleaned!!!\n### - Please read the code within the website to understand what is cleaned and processed!!!"
    },
    {
      "metadata": {
        "trusted": true,
        "_uuid": "8537e676517f58a0a68e6fd54bd3460ea711c650"
      },
      "cell_type": "code",
      "source": "import numpy as np\nimport pandas as pd\nimport sys\nimport os\nimport os.path as osp\nimport matplotlib\nimport matplotlib.pyplot as plt\nimport seaborn as sns\nimport lightgbm as lgb\nfrom sklearn.metrics import mean_squared_error\n\nsns.set()\n\n%matplotlib inline",
      "execution_count": null,
      "outputs": []
    },
    {
      "metadata": {
        "trusted": true,
        "_uuid": "5495b612f03f382fc3fda3dd6a49c14a4c797bf8"
      },
      "cell_type": "code",
      "source": "train_data = None\ntest_data = None\n\nfor i in range(9):\n    if i == 0:\n        train_data = pd.read_pickle(osp.join(\"..\", \"input\", \"train_\"+str(i)+\".pkl\"))\n        continue\n    else:\n        temp = pd.read_pickle(osp.join(\"..\", \"input\", \"train_\"+str(i)+\".pkl\"))\n        train_data = pd.concat([train_data, temp], ignore_index=True)\n\nfor j in range(3):\n    if j == 0:\n        test_data = pd.read_pickle(osp.join(\"..\", \"input\", \"test_\"+str(j)+\".pkl\"))\n        continue\n    else:\n        temp = pd.read_pickle(osp.join(\"..\", \"input\", \"test_\"+str(j)+\".pkl\"))\n        test_data = pd.concat([test_data, temp], ignore_index=True)\n    \n",
      "execution_count": null,
      "outputs": []
    },
    {
      "metadata": {
        "scrolled": true,
        "trusted": true,
        "_uuid": "e3d64020f525035cecd054949f94f37f33ea8aef"
      },
      "cell_type": "code",
      "source": "print(type(train_data))\nprint(type(test_data))",
      "execution_count": null,
      "outputs": []
    },
    {
      "metadata": {
        "trusted": true,
        "_uuid": "8586221158785e70f75d6c2166c712b719e4ad2f"
      },
      "cell_type": "code",
      "source": "print(train_data.columns)",
      "execution_count": null,
      "outputs": []
    },
    {
      "metadata": {
        "scrolled": false,
        "trusted": true,
        "_uuid": "7d8ad4346217fdc6b4b3db98b2504d2372d7e9c1"
      },
      "cell_type": "code",
      "source": "sorted_revenue = train_data['totals_transactionRevenue'].sort_values(ascending=False)\ntop_10_revenue = sorted_revenue.head(10)\nleast_10_revenue = sorted_revenue.tail(10)\n\nprint(top_10_revenue, '\\n')\nprint(least_10_revenue, '\\n')\nprint(sorted_revenue.describe(), '\\n')\n\n# train_data.plot.scatter(x='visitId', y='totals_transactionRevenue')\nplt.scatter(x=range(len(sorted_revenue)), y=sorted_revenue.sort_values(ascending=True))\n\nplt.title(\"Total transaction Revenue of each customers\")\nplt.xlabel(\"visitor count\")\nplt.ylabel(\"Total Transaction Revenue\")\n\nplt.show()",
      "execution_count": null,
      "outputs": []
    },
    {
      "metadata": {
        "scrolled": false,
        "trusted": true,
        "_uuid": "38fcf48e63dbada1c1950002e8a45bd4cbaac2d2"
      },
      "cell_type": "code",
      "source": "Top10_browser_used = train_data.groupby('device_browser')['visitId'].nunique().sort_values(ascending=False).head(10)\nTop10_browser_used.plot.bar()\n\nplt.title(\"Top 10 Browser Used\")\nplt.xlabel(\"device browser\")\nplt.ylabel(\"number of users\")\n\nplt.show()\n\nTop10_nonzero_revenue_browser_used = train_data[train_data.totals_transactionRevenue>0].groupby('device_browser')['visitId'].nunique().sort_values(ascending=False).head(10)\n\nTop10_nonzero_revenue_browser_used.plot.bar()\n\nplt.title(\"Top 10 Non Zero Revenue Browser Used\")\nplt.xlabel(\"device browser\")\nplt.ylabel(\"number of users\")\n\nplt.show()",
      "execution_count": null,
      "outputs": []
    },
    {
      "metadata": {
        "trusted": true,
        "_uuid": "64c00be0c077dc1515f75f0782a01a5f56c9c21d"
      },
      "cell_type": "code",
      "source": "Device_used = train_data.groupby('device_deviceCategory')['visitId'].nunique().sort_values(ascending=False).head(10)\n\nDevice_used.plot.bar()\n\nplt.title(\"Device Used\")\nplt.xlabel(\"device category\")\nplt.ylabel(\"number of users\")\n\nplt.xticks(rotation=0)\n\nplt.show()\n\nNonzero_revenue_device_used = train_data[train_data.totals_transactionRevenue>0].groupby('device_deviceCategory')['visitId'].nunique().sort_values(ascending=False).head(10)\n\nNonzero_revenue_device_used.plot.bar()\n\nplt.title(\"Non Zero Revenue Device Used\")\nplt.xlabel(\"device category\")\nplt.ylabel(\"number of users\")\n\nplt.xticks(rotation=0)\n\nplt.show()",
      "execution_count": null,
      "outputs": []
    },
    {
      "metadata": {
        "trusted": true,
        "_uuid": "8bb12fd624cd4ce7fa4af379e3dcbf2bd0a38331"
      },
      "cell_type": "code",
      "source": "Top10_OS_used = train_data.groupby('device_operatingSystem')['visitId'].nunique().sort_values(ascending=False).head(10)\n\nTop10_OS_used.plot.bar()\n\nplt.title(\"Top 10 OS Used\")\nplt.xlabel(\"Device OS\")\nplt.ylabel(\"number of users\")\n\nplt.show()\n\nTop10_nonzero_revenue_OS_used = train_data[train_data.totals_transactionRevenue>0].groupby('device_operatingSystem')['visitId'].nunique().sort_values(ascending=False).head(10)\n\n\nnew_index = ['Windows', 'Macintosh',  'Android', 'iOS', 'Linux', 'Chrome OS', 'Windows Phone']\n\nTop10_nonzero_revenue_OS_used = Top10_nonzero_revenue_OS_used.reindex(new_index)\n\nTop10_nonzero_revenue_OS_used.plot.bar()\n\nplt.title(\"Top 7 Non Zero Revenue OS Used\")\nplt.xlabel(\"Device OS\")\nplt.ylabel(\"number of users\")\n\nplt.show()",
      "execution_count": null,
      "outputs": []
    },
    {
      "metadata": {
        "trusted": true,
        "_uuid": "cf06affa5ff3c5640856523443aa7873b017cf8f"
      },
      "cell_type": "code",
      "source": "import matplotlib.pyplot as plt\n\nDate_against_visitcount = train_data.groupby(['Date_Year', 'Date_Month', 'Date_Day'])['visitId'].nunique()\n\nDate_against_visitcount.plot()\n\nplt.title(\"Date against Visit Count\")\nplt.xlabel(\"Month\")\nplt.ylabel(\"Count\")\n\n\nplt.show()",
      "execution_count": null,
      "outputs": []
    },
    {
      "metadata": {
        "trusted": true,
        "_uuid": "24348c8acceb0f45857011c88777ca5e7cb0b950"
      },
      "cell_type": "code",
      "source": "continent = train_data.groupby('geoNetwork_continent')['visitId'].nunique().sort_values(ascending=False).head(5)\n\ncontinent.plot.bar()\n\nplt.title(\"Access from different Continents\")\nplt.xlabel(\"Continent\")\nplt.ylabel(\"number of access\")\n\nplt.show()\n\ncontinent_nonzero_revenue = train_data[train_data.totals_transactionRevenue>0].groupby('geoNetwork_continent')['visitId'].nunique().sort_values(ascending=False).head(5)\n\ncontinent_nonzero_revenue.plot.bar()\n\nplt.title(\"Non zero revenue access from different Continents\")\nplt.xlabel(\"Continent\")\nplt.ylabel(\"number of access\")\n\nplt.show()",
      "execution_count": null,
      "outputs": []
    },
    {
      "metadata": {
        "trusted": true,
        "_uuid": "5afe30b0ba9aa6f9d3abc53fa8f552cb271f1949"
      },
      "cell_type": "code",
      "source": "country = train_data.groupby('geoNetwork_country')['visitId'].nunique().sort_values(ascending=False).head(40)\n\ncountry.plot.bar()\n\nplt.title(\"Access from different Countries\")\nplt.xlabel(\"Country\")\nplt.ylabel(\"number of access\")\n\nplt.show()\n\ncountry_nonzero_revenue = train_data[train_data.totals_transactionRevenue>0].groupby('geoNetwork_country')['visitId'].nunique().sort_values(ascending=False).head(10)\n\ncountry_nonzero_revenue.plot.bar()\n\nplt.title(\"Non zero revenue access from different Countries\")\nplt.xlabel(\"Country\")\nplt.ylabel(\"number of access\")\n\nplt.show()",
      "execution_count": null,
      "outputs": []
    },
    {
      "metadata": {
        "trusted": true,
        "_uuid": "c7c412c300284d277f710fe87fc9c5b5d4dfcaff"
      },
      "cell_type": "code",
      "source": "Top8_channel = train_data.groupby('channelGrouping')['visitId'].nunique().sort_values(ascending=False).head(10)\nTop8_channel.plot.bar()\n\nplt.title(\"Top 8 channel\")\nplt.xlabel(\"Channels\")\nplt.ylabel(\"number of accesses from channel\")\n\nplt.show()\n\nTop8_channel_nonzero_revenue = train_data[train_data.totals_transactionRevenue>0].groupby('channelGrouping')['visitId'].nunique().sort_values(ascending=False).head(10)\nTop8_channel_nonzero_revenue.plot.bar()\n\nplt.title(\"Top 8 non zero revenue channel\")\nplt.xlabel(\"Channels\")\nplt.ylabel(\"number of accesses from channel\")\n\nplt.show()",
      "execution_count": null,
      "outputs": []
    },
    {
      "metadata": {
        "trusted": true,
        "_uuid": "6644806563a5f621e947f90e38f1b7f60c8ab0e5"
      },
      "cell_type": "code",
      "source": "Top20_source = train_data.groupby('trafficSource_source')['visitId'].nunique().sort_values(ascending=False).head(20)\nTop20_source.plot.bar()\n\nplt.title(\"Top 20 source\")\nplt.xlabel(\"source\")\nplt.ylabel(\"number of access from source\")\n\n\nplt.show()\n\nTop10_source_nonzero_revenue = train_data[train_data.totals_transactionRevenue>0].groupby('trafficSource_source')['visitId'].nunique().sort_values(ascending=False).head(10)\nTop10_source_nonzero_revenue.plot.bar()\n\nplt.title(\"Top 10 non zero reveue source\")\nplt.xlabel(\"source\")\nplt.ylabel(\"number of access from source\")\n\n\nplt.show()",
      "execution_count": null,
      "outputs": []
    },
    {
      "metadata": {
        "trusted": true,
        "_uuid": "6d36e669fc2018b56c87d31651b936b0c9293bfb"
      },
      "cell_type": "code",
      "source": "total_pageview = train_data.groupby('totals_pageviews')['visitId'].nunique().sort_values(ascending=False).head(60)\ntotal_pageview.plot.bar()\n\nplt.title(\"total count for page view\")\nplt.xlabel(\"number of page view\")\nplt.ylabel(\"total count\")\n\nplt.xticks(range(0,61, 10), range(0,61, 10), rotation=0) # ticks = ..., labels = ...\n\n\nplt.show()\n\ntotal_pageview_nonzero_revenue = train_data[train_data.totals_transactionRevenue>0].groupby('totals_pageviews')['visitId'].nunique().head(60)\ntotal_pageview_nonzero_revenue.plot.bar()\n\nplt.title(\"total count for non zero revenue page view\")\nplt.xlabel(\"number of page view\")\nplt.ylabel(\"total count\")\n\nplt.xticks(range(0,61, 10), range(0,61, 10), rotation=0) # ticks = ..., labels = ...\n\nplt.show()",
      "execution_count": null,
      "outputs": []
    },
    {
      "metadata": {
        "trusted": true,
        "_uuid": "9304df99c2951e295d02743d95cedbcadb69da5e"
      },
      "cell_type": "code",
      "source": "test_id = test_data[\"fullVisitorId\"].values\nX_train= train_data.drop(columns=['totals_totalTransactionRevenue', 'totals_transactionRevenue']).apply(lambda x: pd.factorize(x)[0])\ny_train = train_data['totals_transactionRevenue'].apply(lambda x: np.log1p(x))\nX_test = test_data.drop(columns=['totals_totalTransactionRevenue', 'totals_transactionRevenue']).apply(lambda x: pd.factorize(x)[0])\ny_test = test_data['totals_transactionRevenue'].apply(lambda x: np.log1p(x))\n\n\nprint(X_train.shape, y_train.shape)\nprint(X_test.shape, y_test.shape)",
      "execution_count": null,
      "outputs": []
    },
    {
      "metadata": {
        "trusted": true,
        "_uuid": "887408b73cad6fd1cff3774160dc622e5999608f"
      },
      "cell_type": "code",
      "source": "lgb_train = lgb.Dataset(X_train, y_train)\nlgb_eval = lgb.Dataset(X_test, y_test, reference=lgb_train)\n\n# specify your configurations as a dict\nparams = {\n    'boosting_type': 'gbdt',\n    'objective': 'regression',\n    'metric': {'l2', 'l1'},\n    'num_leaves': 31,\n    'learning_rate': 0.05,\n    'feature_fraction': 0.9,\n    'bagging_fraction': 0.8,\n    'bagging_freq': 5,\n    'verbose': 0\n}\n\nprint('Starting training...')\n# train\ngbm = lgb.train(params,\n                lgb_train,\n                num_boost_round=20,\n                valid_sets=lgb_eval,\n                early_stopping_rounds=5)\n\nprint('Saving model...')\n# save model to file\ngbm.save_model('model.txt')\n\nprint('Starting predicting...')\n# predict\ny_pred = gbm.predict(X_test, num_iteration=gbm.best_iteration)\n# eval\nprint('The rmse of prediction is:', mean_squared_error(y_test, y_pred) ** 0.5)",
      "execution_count": null,
      "outputs": []
    },
    {
      "metadata": {
        "trusted": true,
        "_uuid": "082685323a996d8f433169d5f92ee77238dee5f2"
      },
      "cell_type": "code",
      "source": "sub_df = pd.DataFrame({\"fullVisitorId\":test_id})\ny_pred[y_pred<0] = 0\nsub_df[\"PredictedLogRevenue\"] = np.expm1(y_pred)\nsub_df = sub_df.groupby(\"fullVisitorId\")[\"PredictedLogRevenue\"].sum().reset_index()\nsub_df.columns = [\"fullVisitorId\", \"PredictedLogRevenue\"]\nsub_df.to_csv(\"submission.csv\", index=False)",
      "execution_count": null,
      "outputs": []
    },
    {
      "metadata": {
        "trusted": true,
        "_uuid": "471eace119f423494ed2609a6fdad175f353abb1",
        "scrolled": true
      },
      "cell_type": "code",
      "source": "sub_df.head(10)",
      "execution_count": null,
      "outputs": []
    },
    {
      "metadata": {
        "trusted": true,
        "_uuid": "11bd37384f5d5a81acc49c720753a66574e0395d"
      },
      "cell_type": "code",
      "source": "",
      "execution_count": null,
      "outputs": []
    }
  ],
  "metadata": {
    "kernelspec": {
      "display_name": "Python 3",
      "language": "python",
      "name": "python3"
    },
    "language_info": {
      "name": "python",
      "version": "3.6.6",
      "mimetype": "text/x-python",
      "codemirror_mode": {
        "name": "ipython",
        "version": 3
      },
      "pygments_lexer": "ipython3",
      "nbconvert_exporter": "python",
      "file_extension": ".py"
    }
  },
  "nbformat": 4,
  "nbformat_minor": 1
}